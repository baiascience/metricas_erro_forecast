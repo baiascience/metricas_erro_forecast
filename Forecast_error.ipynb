{
  "nbformat": 4,
  "nbformat_minor": 0,
  "metadata": {
    "kernelspec": {
      "display_name": "Python 3",
      "language": "python",
      "name": "python3"
    },
    "language_info": {
      "codemirror_mode": {
        "name": "ipython",
        "version": 3
      },
      "file_extension": ".py",
      "mimetype": "text/x-python",
      "name": "python",
      "nbconvert_exporter": "python",
      "pygments_lexer": "ipython3",
      "version": "3.8.5"
    },
    "colab": {
      "name": "Data Science for Supply Chain Forecast - 1.ipynb",
      "provenance": [],
      "include_colab_link": true
    }
  },
  "cells": [
    {
      "cell_type": "markdown",
      "metadata": {
        "id": "view-in-github",
        "colab_type": "text"
      },
      "source": [
        "<a href=\"https://colab.research.google.com/github/baiascience/metricas_erro_forecast/blob/main/Forecast_error.ipynb\" target=\"_parent\"><img src=\"https://colab.research.google.com/assets/colab-badge.svg\" alt=\"Open In Colab\"/></a>"
      ]
    },
    {
      "cell_type": "markdown",
      "metadata": {
        "id": "vFHJhPijl_7Y"
      },
      "source": [
        "In the same way electricity revolutionized the second half of the XIX century, allowing industries to produce more with less, AI will drastically impact the following decades.\n",
        "\n",
        "Using data Science to solve a problem will require a scientific mindset more than codings skills. \n",
        "\n",
        "In the field of data science as well as for supply chain, simple questions do not come with simple answers. To answer these questions, you will need to both be a scientist and use the rights tools. We will discuss both. "
      ]
    },
    {
      "cell_type": "markdown",
      "metadata": {
        "id": "HUsHBLz1l_7e"
      },
      "source": [
        "From negotiating contract volumes with suppliers to setting safety stock targets, everything relates to the ultimate question:\n",
        "\n",
        "***What is tomorrow going to be like?***\n"
      ]
    },
    {
      "cell_type": "markdown",
      "metadata": {
        "id": "0GxUqEj-l_7f"
      },
      "source": [
        "# Chapter 1\n"
      ]
    },
    {
      "cell_type": "markdown",
      "metadata": {
        "id": "heogP2Qel_7f"
      },
      "source": [
        "## Idea\n",
        "\n",
        "The moving average model is based on the idea that future demand is similar to the recent demanda we observed. With this model, we will simply assume that the forecast is the average of the demand during the last n periods. If you look at demmand on a monthy basis, this could translate as \"We predict the demand in June to be the average of March, April e May. "
      ]
    },
    {
      "cell_type": "markdown",
      "metadata": {
        "id": "zrNkfshwl_7f"
      },
      "source": [
        "Model:\n",
        "\n",
        "$ f_t =  \\frac{1}{n} \\sum_{i=1}^{n} d_{t-i} $\n",
        "\n",
        "\n",
        "Where:\n",
        "\n",
        "n is the number of periods we take the average of;\n",
        "\n",
        "$d_t$ is the demand we observed during period t;\n",
        "\n",
        "$f_t$ is the forecast we made for period t.\n"
      ]
    },
    {
      "cell_type": "markdown",
      "metadata": {
        "id": "BZxdeWv8l_7g"
      },
      "source": [
        "Initialization: \n",
        "\n",
        "The first forecast will be done for $t = n + 1$ because there will be historical period"
      ]
    },
    {
      "cell_type": "markdown",
      "metadata": {
        "id": "ZGbS00m3l_7g"
      },
      "source": [
        "Here we will have for simplification:\n",
        "\n",
        "\n",
        "Demand will be noted as *d*\n",
        "\n",
        "Forecast will noted as *f*"
      ]
    },
    {
      "cell_type": "markdown",
      "metadata": {
        "id": "C4N4ZqJnl_7h"
      },
      "source": [
        "Insights:\n",
        "\n",
        "The moving average forecast where n=1 is a rather specific case: the forecast is the demand with a one-period lag. This what we call a naive forecast: \"tomorrow will be just as today\". A naive forecast is interesting as it will react fast to a changing demand, but on the other hand it will also be sensitive to noise and outliers. \n",
        "\n",
        "*Noise* In statistics, the noise is an unexplained variation in the data. It is often due to the randomness of the different processes at hand. "
      ]
    },
    {
      "cell_type": "markdown",
      "metadata": {
        "id": "B-NXZ0CRl_7i"
      },
      "source": [
        "We have to make a *Trade-off* between reactivy and smoothness. \n",
        "\n",
        "You will see, we will have to make this trade-off over and over again for all the exponential smoothing models that we will see later. "
      ]
    },
    {
      "cell_type": "markdown",
      "metadata": {
        "id": "vfjKpvTfl_7i"
      },
      "source": [
        "# Código as is on the book"
      ]
    },
    {
      "cell_type": "code",
      "metadata": {
        "id": "JC0F1yVHl_7j"
      },
      "source": [
        "#my first model"
      ],
      "execution_count": null,
      "outputs": []
    },
    {
      "cell_type": "code",
      "metadata": {
        "id": "PSTomp0Al_7j"
      },
      "source": [
        "import pandas as pd\n",
        "import numpy as np"
      ],
      "execution_count": null,
      "outputs": []
    },
    {
      "cell_type": "code",
      "metadata": {
        "id": "tjbilvX0l_7k"
      },
      "source": [
        "def moving_average (d,extra_periods=1,n=3):\n",
        "    #transform the input into a numpy array\n",
        "    d = np.array(d)\n",
        "    #Historical period length\n",
        "    cols = len(d)\n",
        "    #Append np.nan into the demand array to cover future periods\n",
        "    d = np.append(d,[np.nan]*extra_periods)\n",
        "    #Define the forecast array\n",
        "    f = np.full(cols+extra_periods,np.nan)\n",
        "    \n",
        "    # Create all the t+1 forecasts until end of historical period\n",
        "    for t in range(n, cols+1):\n",
        "        f[t] = np.mean(d[t-n:t])\n",
        "        \n",
        "    #Forecast for all extra periods\n",
        "    f[cols + 1:] = f[t]\n",
        "    \n",
        "    df = pd.DataFrame.from_dict({'Demand':d,'Forecast':f,'Error':d-f})\n",
        "    return df"
      ],
      "execution_count": null,
      "outputs": []
    },
    {
      "cell_type": "code",
      "metadata": {
        "id": "Fjh6oFH3l_7k"
      },
      "source": [
        "d = [28,19,18,13,19,16,19,18,13,16,16,11,18,15,13,15,13,11,13,10,12]"
      ],
      "execution_count": null,
      "outputs": []
    },
    {
      "cell_type": "code",
      "metadata": {
        "id": "6ymWTaP9l_7l"
      },
      "source": [
        "df = moving_average(d)"
      ],
      "execution_count": null,
      "outputs": []
    },
    {
      "cell_type": "code",
      "metadata": {
        "id": "oQm9xVEFl_7l",
        "outputId": "b9d2e233-8ba8-425f-e515-9716f336fd45"
      },
      "source": [
        "df"
      ],
      "execution_count": null,
      "outputs": [
        {
          "data": {
            "text/html": [
              "<div>\n",
              "<style scoped>\n",
              "    .dataframe tbody tr th:only-of-type {\n",
              "        vertical-align: middle;\n",
              "    }\n",
              "\n",
              "    .dataframe tbody tr th {\n",
              "        vertical-align: top;\n",
              "    }\n",
              "\n",
              "    .dataframe thead th {\n",
              "        text-align: right;\n",
              "    }\n",
              "</style>\n",
              "<table border=\"1\" class=\"dataframe\">\n",
              "  <thead>\n",
              "    <tr style=\"text-align: right;\">\n",
              "      <th></th>\n",
              "      <th>Demand</th>\n",
              "      <th>Forecast</th>\n",
              "      <th>Error</th>\n",
              "    </tr>\n",
              "  </thead>\n",
              "  <tbody>\n",
              "    <tr>\n",
              "      <th>0</th>\n",
              "      <td>28.0</td>\n",
              "      <td>NaN</td>\n",
              "      <td>NaN</td>\n",
              "    </tr>\n",
              "    <tr>\n",
              "      <th>1</th>\n",
              "      <td>19.0</td>\n",
              "      <td>NaN</td>\n",
              "      <td>NaN</td>\n",
              "    </tr>\n",
              "    <tr>\n",
              "      <th>2</th>\n",
              "      <td>18.0</td>\n",
              "      <td>NaN</td>\n",
              "      <td>NaN</td>\n",
              "    </tr>\n",
              "    <tr>\n",
              "      <th>3</th>\n",
              "      <td>13.0</td>\n",
              "      <td>21.666667</td>\n",
              "      <td>-8.666667</td>\n",
              "    </tr>\n",
              "    <tr>\n",
              "      <th>4</th>\n",
              "      <td>19.0</td>\n",
              "      <td>16.666667</td>\n",
              "      <td>2.333333</td>\n",
              "    </tr>\n",
              "    <tr>\n",
              "      <th>5</th>\n",
              "      <td>16.0</td>\n",
              "      <td>16.666667</td>\n",
              "      <td>-0.666667</td>\n",
              "    </tr>\n",
              "    <tr>\n",
              "      <th>6</th>\n",
              "      <td>19.0</td>\n",
              "      <td>16.000000</td>\n",
              "      <td>3.000000</td>\n",
              "    </tr>\n",
              "    <tr>\n",
              "      <th>7</th>\n",
              "      <td>18.0</td>\n",
              "      <td>18.000000</td>\n",
              "      <td>0.000000</td>\n",
              "    </tr>\n",
              "    <tr>\n",
              "      <th>8</th>\n",
              "      <td>13.0</td>\n",
              "      <td>17.666667</td>\n",
              "      <td>-4.666667</td>\n",
              "    </tr>\n",
              "    <tr>\n",
              "      <th>9</th>\n",
              "      <td>16.0</td>\n",
              "      <td>16.666667</td>\n",
              "      <td>-0.666667</td>\n",
              "    </tr>\n",
              "    <tr>\n",
              "      <th>10</th>\n",
              "      <td>16.0</td>\n",
              "      <td>15.666667</td>\n",
              "      <td>0.333333</td>\n",
              "    </tr>\n",
              "    <tr>\n",
              "      <th>11</th>\n",
              "      <td>11.0</td>\n",
              "      <td>15.000000</td>\n",
              "      <td>-4.000000</td>\n",
              "    </tr>\n",
              "    <tr>\n",
              "      <th>12</th>\n",
              "      <td>18.0</td>\n",
              "      <td>14.333333</td>\n",
              "      <td>3.666667</td>\n",
              "    </tr>\n",
              "    <tr>\n",
              "      <th>13</th>\n",
              "      <td>15.0</td>\n",
              "      <td>15.000000</td>\n",
              "      <td>0.000000</td>\n",
              "    </tr>\n",
              "    <tr>\n",
              "      <th>14</th>\n",
              "      <td>13.0</td>\n",
              "      <td>14.666667</td>\n",
              "      <td>-1.666667</td>\n",
              "    </tr>\n",
              "    <tr>\n",
              "      <th>15</th>\n",
              "      <td>15.0</td>\n",
              "      <td>15.333333</td>\n",
              "      <td>-0.333333</td>\n",
              "    </tr>\n",
              "    <tr>\n",
              "      <th>16</th>\n",
              "      <td>13.0</td>\n",
              "      <td>14.333333</td>\n",
              "      <td>-1.333333</td>\n",
              "    </tr>\n",
              "    <tr>\n",
              "      <th>17</th>\n",
              "      <td>11.0</td>\n",
              "      <td>13.666667</td>\n",
              "      <td>-2.666667</td>\n",
              "    </tr>\n",
              "    <tr>\n",
              "      <th>18</th>\n",
              "      <td>13.0</td>\n",
              "      <td>13.000000</td>\n",
              "      <td>0.000000</td>\n",
              "    </tr>\n",
              "    <tr>\n",
              "      <th>19</th>\n",
              "      <td>10.0</td>\n",
              "      <td>12.333333</td>\n",
              "      <td>-2.333333</td>\n",
              "    </tr>\n",
              "    <tr>\n",
              "      <th>20</th>\n",
              "      <td>12.0</td>\n",
              "      <td>11.333333</td>\n",
              "      <td>0.666667</td>\n",
              "    </tr>\n",
              "    <tr>\n",
              "      <th>21</th>\n",
              "      <td>NaN</td>\n",
              "      <td>11.666667</td>\n",
              "      <td>NaN</td>\n",
              "    </tr>\n",
              "  </tbody>\n",
              "</table>\n",
              "</div>"
            ],
            "text/plain": [
              "    Demand   Forecast     Error\n",
              "0     28.0        NaN       NaN\n",
              "1     19.0        NaN       NaN\n",
              "2     18.0        NaN       NaN\n",
              "3     13.0  21.666667 -8.666667\n",
              "4     19.0  16.666667  2.333333\n",
              "5     16.0  16.666667 -0.666667\n",
              "6     19.0  16.000000  3.000000\n",
              "7     18.0  18.000000  0.000000\n",
              "8     13.0  17.666667 -4.666667\n",
              "9     16.0  16.666667 -0.666667\n",
              "10    16.0  15.666667  0.333333\n",
              "11    11.0  15.000000 -4.000000\n",
              "12    18.0  14.333333  3.666667\n",
              "13    15.0  15.000000  0.000000\n",
              "14    13.0  14.666667 -1.666667\n",
              "15    15.0  15.333333 -0.333333\n",
              "16    13.0  14.333333 -1.333333\n",
              "17    11.0  13.666667 -2.666667\n",
              "18    13.0  13.000000  0.000000\n",
              "19    10.0  12.333333 -2.333333\n",
              "20    12.0  11.333333  0.666667\n",
              "21     NaN  11.666667       NaN"
            ]
          },
          "execution_count": 64,
          "metadata": {},
          "output_type": "execute_result"
        }
      ]
    },
    {
      "cell_type": "code",
      "metadata": {
        "id": "7cnaM-_rl_7m",
        "outputId": "937e2d92-681a-4e75-c492-a0666141f642"
      },
      "source": [
        "df[['Demand','Forecast']].plot(figsize=(8,3),ylim=(10,30),style=['-','--'], title='Moving Average')"
      ],
      "execution_count": null,
      "outputs": [
        {
          "data": {
            "text/plain": [
              "<AxesSubplot:title={'center':'Moving Average'}>"
            ]
          },
          "execution_count": 34,
          "metadata": {},
          "output_type": "execute_result"
        },
        {
          "data": {
            "image/png": "[encoded data removed]",
            "text/plain": [
              "<Figure size 576x216 with 1 Axes>"
            ]
          },
          "metadata": {
            "needs_background": "light"
          },
          "output_type": "display_data"
        }
      ]
    },
    {
      "cell_type": "markdown",
      "metadata": {
        "id": "l7jzAQNSl_7m"
      },
      "source": [
        "# Entendendo o código"
      ]
    },
    {
      "cell_type": "code",
      "metadata": {
        "id": "qAMGk31El_7m"
      },
      "source": [
        "import pandas as pd\n",
        "import numpy as np"
      ],
      "execution_count": null,
      "outputs": []
    },
    {
      "cell_type": "code",
      "metadata": {
        "id": "_f3tJJJDl_7m"
      },
      "source": [
        "extra_periods, n =1,3"
      ],
      "execution_count": null,
      "outputs": []
    },
    {
      "cell_type": "code",
      "metadata": {
        "id": "Jbm12NLMl_7n"
      },
      "source": [
        "d = [28,19,18,13,19,16,19,18,13,16,16,11,18,15,13,15,13,11,13,10,12]"
      ],
      "execution_count": null,
      "outputs": []
    },
    {
      "cell_type": "code",
      "metadata": {
        "id": "ZGG6m2Mal_7n"
      },
      "source": [
        "d = np.array(d) \n",
        "#to make sure that the function works even if d is passed as a pandas DataFrame or a simple list."
      ],
      "execution_count": null,
      "outputs": []
    },
    {
      "cell_type": "code",
      "metadata": {
        "id": "hgVq5oEgl_7n",
        "outputId": "8255e1e6-aaf8-407f-a7e2-7482387c6183"
      },
      "source": [
        "d"
      ],
      "execution_count": null,
      "outputs": [
        {
          "data": {
            "text/plain": [
              "array([28, 19, 18, 13, 19, 16, 19, 18, 13, 16, 16, 11, 18, 15, 13, 15, 13,\n",
              "       11, 13, 10, 12])"
            ]
          },
          "execution_count": 12,
          "metadata": {},
          "output_type": "execute_result"
        }
      ]
    },
    {
      "cell_type": "code",
      "metadata": {
        "id": "x3al7brsl_7n"
      },
      "source": [
        "cols = len(d)"
      ],
      "execution_count": null,
      "outputs": []
    },
    {
      "cell_type": "code",
      "metadata": {
        "id": "aTd_LJ6Fl_7n"
      },
      "source": [
        "d = np.append(d,[np.nan]*extra_periods)"
      ],
      "execution_count": null,
      "outputs": []
    },
    {
      "cell_type": "code",
      "metadata": {
        "id": "FTzK-qvSl_7o",
        "outputId": "b32ba6d5-0436-4661-c5e8-764800269bdb"
      },
      "source": [
        "d"
      ],
      "execution_count": null,
      "outputs": [
        {
          "data": {
            "text/plain": [
              "array([28., 19., 18., 13., 19., 16., 19., 18., 13., 16., 16., 11., 18.,\n",
              "       15., 13., 15., 13., 11., 13., 10., 12., nan, nan])"
            ]
          },
          "execution_count": 18,
          "metadata": {},
          "output_type": "execute_result"
        }
      ]
    },
    {
      "cell_type": "code",
      "metadata": {
        "id": "YN1aHdTBl_7o",
        "outputId": "73724ed3-f2d6-4130-9aa0-efbbf2fa44f4"
      },
      "source": [
        "len(d)"
      ],
      "execution_count": null,
      "outputs": [
        {
          "data": {
            "text/plain": [
              "23"
            ]
          },
          "execution_count": 19,
          "metadata": {},
          "output_type": "execute_result"
        }
      ]
    },
    {
      "cell_type": "code",
      "metadata": {
        "id": "mPza4oHnl_7o"
      },
      "source": [
        "f = np.full(cols + extra_periods, np.nan)"
      ],
      "execution_count": null,
      "outputs": []
    },
    {
      "cell_type": "code",
      "metadata": {
        "id": "u2O5pFVnl_7o",
        "outputId": "c7e44c39-a072-47c6-8e0d-750c6d47b0be"
      },
      "source": [
        "f"
      ],
      "execution_count": null,
      "outputs": [
        {
          "data": {
            "text/plain": [
              "array([nan, nan, nan, nan, nan, nan, nan, nan, nan, nan, nan, nan, nan,\n",
              "       nan, nan, nan, nan, nan, nan, nan, nan, nan, nan])"
            ]
          },
          "execution_count": 21,
          "metadata": {},
          "output_type": "execute_result"
        }
      ]
    },
    {
      "cell_type": "code",
      "metadata": {
        "id": "ftBkfK0Kl_7o",
        "outputId": "1c6798d2-af55-4141-813a-5adcc4004e57"
      },
      "source": [
        "len(f)"
      ],
      "execution_count": null,
      "outputs": [
        {
          "data": {
            "text/plain": [
              "23"
            ]
          },
          "execution_count": 22,
          "metadata": {},
          "output_type": "execute_result"
        }
      ]
    },
    {
      "cell_type": "code",
      "metadata": {
        "id": "an8Ycz0Nl_7p",
        "outputId": "47f48631-ee22-4200-f56b-54445c21c4c5"
      },
      "source": [
        "d"
      ],
      "execution_count": null,
      "outputs": [
        {
          "data": {
            "text/plain": [
              "array([28., 19., 18., 13., 19., 16., 19., 18., 13., 16., 16., 11., 18.,\n",
              "       15., 13., 15., 13., 11., 13., 10., 12., nan, nan])"
            ]
          },
          "execution_count": 23,
          "metadata": {},
          "output_type": "execute_result"
        }
      ]
    },
    {
      "cell_type": "code",
      "metadata": {
        "id": "bS7xYidal_7p",
        "outputId": "c4ffead7-bd90-40bb-e76a-35ca7f8250fc"
      },
      "source": [
        "for t in range(n,cols+1):\n",
        "    \n",
        "    f[t] = np.mean(d[t-n:t],) #d[t] está sempre olhando para o passado, f[t] está no máximo atual.\n",
        "    #observe que usa-se d[t-3] até d[t-1] para prever f[t]. Lembre-se que t não entra no slice de d.\n",
        "    print(f'Moment t:{t}, for period n {n}, using the following demand: {d[t-n:t]} is {f[t]}')\n",
        "    \"\"\"\n",
        "    Para o primeiro mês:  d[0] até d[2] (slice não inclui 3) para prever f[3]\n",
        "    Para o segundo mês: d[1] até d[3] (slice não inclui 4) para prever f[4]\n",
        "    \"\"\"\n",
        "    "
      ],
      "execution_count": null,
      "outputs": [
        {
          "name": "stdout",
          "output_type": "stream",
          "text": [
            "Moment t:3, for period n 3, using the following demand: [28. 19. 18.] is 21.666666666666668\n",
            "Moment t:4, for period n 3, using the following demand: [19. 18. 13.] is 16.666666666666668\n",
            "Moment t:5, for period n 3, using the following demand: [18. 13. 19.] is 16.666666666666668\n",
            "Moment t:6, for period n 3, using the following demand: [13. 19. 16.] is 16.0\n",
            "Moment t:7, for period n 3, using the following demand: [19. 16. 19.] is 18.0\n",
            "Moment t:8, for period n 3, using the following demand: [16. 19. 18.] is 17.666666666666668\n",
            "Moment t:9, for period n 3, using the following demand: [19. 18. 13.] is 16.666666666666668\n",
            "Moment t:10, for period n 3, using the following demand: [18. 13. 16.] is 15.666666666666666\n",
            "Moment t:11, for period n 3, using the following demand: [13. 16. 16.] is 15.0\n",
            "Moment t:12, for period n 3, using the following demand: [16. 16. 11.] is 14.333333333333334\n",
            "Moment t:13, for period n 3, using the following demand: [16. 11. 18.] is 15.0\n",
            "Moment t:14, for period n 3, using the following demand: [11. 18. 15.] is 14.666666666666666\n",
            "Moment t:15, for period n 3, using the following demand: [18. 15. 13.] is 15.333333333333334\n",
            "Moment t:16, for period n 3, using the following demand: [15. 13. 15.] is 14.333333333333334\n",
            "Moment t:17, for period n 3, using the following demand: [13. 15. 13.] is 13.666666666666666\n",
            "Moment t:18, for period n 3, using the following demand: [15. 13. 11.] is 13.0\n",
            "Moment t:19, for period n 3, using the following demand: [13. 11. 13.] is 12.333333333333334\n",
            "Moment t:20, for period n 3, using the following demand: [11. 13. 10.] is 11.333333333333334\n",
            "Moment t:21, for period n 3, using the following demand: [13. 10. 12.] is 11.666666666666666\n",
            "Moment t:22, for period n 3, using the following demand: [10. 12. nan] is nan\n"
          ]
        }
      ]
    },
    {
      "cell_type": "code",
      "metadata": {
        "id": "kSEpV16bl_7p",
        "outputId": "dc7c7eb6-8ae1-4d3c-cdab-5beace43a730"
      },
      "source": [
        "t"
      ],
      "execution_count": null,
      "outputs": [
        {
          "data": {
            "text/plain": [
              "22"
            ]
          },
          "execution_count": 50,
          "metadata": {},
          "output_type": "execute_result"
        }
      ]
    },
    {
      "cell_type": "code",
      "metadata": {
        "id": "kek15CMgl_7p",
        "outputId": "53256fc8-b0c3-47ee-a61f-926f75673df9"
      },
      "source": [
        "f"
      ],
      "execution_count": null,
      "outputs": [
        {
          "data": {
            "text/plain": [
              "array([        nan,         nan,         nan, 21.66666667, 16.66666667,\n",
              "       16.66666667, 16.        , 18.        , 17.66666667, 16.66666667,\n",
              "       15.66666667, 15.        , 14.33333333, 15.        , 14.66666667,\n",
              "       15.33333333, 14.33333333, 13.66666667, 13.        , 12.33333333,\n",
              "       11.33333333, 11.66666667,         nan])"
            ]
          },
          "execution_count": 51,
          "metadata": {},
          "output_type": "execute_result"
        }
      ]
    },
    {
      "cell_type": "code",
      "metadata": {
        "id": "6QJ8XulQl_7q"
      },
      "source": [
        "f[cols:] = f[t-1] #todos o meses após o primeiro np.nan serão igualados ao último forecast feito."
      ],
      "execution_count": null,
      "outputs": []
    },
    {
      "cell_type": "code",
      "metadata": {
        "id": "-iCNmNUtl_7q",
        "outputId": "67cf2a5d-7b12-4680-933c-20e42a2b668a"
      },
      "source": [
        "f[22]"
      ],
      "execution_count": null,
      "outputs": [
        {
          "data": {
            "text/plain": [
              "11.666666666666666"
            ]
          },
          "execution_count": 46,
          "metadata": {},
          "output_type": "execute_result"
        }
      ]
    },
    {
      "cell_type": "code",
      "metadata": {
        "id": "xhRF9GBRl_7q",
        "outputId": "cb70ec95-96ae-4863-f0d1-cdd1baa62e16"
      },
      "source": [
        "f"
      ],
      "execution_count": null,
      "outputs": [
        {
          "data": {
            "text/plain": [
              "array([        nan,         nan,         nan, 21.66666667, 16.66666667,\n",
              "       16.66666667, 16.        , 18.        , 17.66666667, 16.66666667,\n",
              "       15.66666667, 15.        , 14.33333333, 15.        , 14.66666667,\n",
              "       15.33333333, 14.33333333, 13.66666667, 13.        , 12.33333333,\n",
              "       11.33333333, 11.66666667, 11.66666667])"
            ]
          },
          "execution_count": 47,
          "metadata": {},
          "output_type": "execute_result"
        }
      ]
    },
    {
      "cell_type": "code",
      "metadata": {
        "id": "GjUb6vnxl_7q"
      },
      "source": [
        "df= pd.DataFrame({'Demand':d,'Forecast':f})"
      ],
      "execution_count": null,
      "outputs": []
    },
    {
      "cell_type": "code",
      "metadata": {
        "id": "D39TMwIul_7q",
        "outputId": "eda0715f-00a2-4f10-abfd-43af9f46c3bd"
      },
      "source": [
        "df"
      ],
      "execution_count": null,
      "outputs": [
        {
          "data": {
            "text/html": [
              "<div>\n",
              "<style scoped>\n",
              "    .dataframe tbody tr th:only-of-type {\n",
              "        vertical-align: middle;\n",
              "    }\n",
              "\n",
              "    .dataframe tbody tr th {\n",
              "        vertical-align: top;\n",
              "    }\n",
              "\n",
              "    .dataframe thead th {\n",
              "        text-align: right;\n",
              "    }\n",
              "</style>\n",
              "<table border=\"1\" class=\"dataframe\">\n",
              "  <thead>\n",
              "    <tr style=\"text-align: right;\">\n",
              "      <th></th>\n",
              "      <th>Demand</th>\n",
              "      <th>Forecast</th>\n",
              "    </tr>\n",
              "  </thead>\n",
              "  <tbody>\n",
              "    <tr>\n",
              "      <th>0</th>\n",
              "      <td>28.0</td>\n",
              "      <td>NaN</td>\n",
              "    </tr>\n",
              "    <tr>\n",
              "      <th>1</th>\n",
              "      <td>19.0</td>\n",
              "      <td>NaN</td>\n",
              "    </tr>\n",
              "    <tr>\n",
              "      <th>2</th>\n",
              "      <td>18.0</td>\n",
              "      <td>NaN</td>\n",
              "    </tr>\n",
              "    <tr>\n",
              "      <th>3</th>\n",
              "      <td>13.0</td>\n",
              "      <td>21.666667</td>\n",
              "    </tr>\n",
              "    <tr>\n",
              "      <th>4</th>\n",
              "      <td>19.0</td>\n",
              "      <td>16.666667</td>\n",
              "    </tr>\n",
              "    <tr>\n",
              "      <th>5</th>\n",
              "      <td>16.0</td>\n",
              "      <td>16.666667</td>\n",
              "    </tr>\n",
              "    <tr>\n",
              "      <th>6</th>\n",
              "      <td>19.0</td>\n",
              "      <td>16.000000</td>\n",
              "    </tr>\n",
              "    <tr>\n",
              "      <th>7</th>\n",
              "      <td>18.0</td>\n",
              "      <td>18.000000</td>\n",
              "    </tr>\n",
              "    <tr>\n",
              "      <th>8</th>\n",
              "      <td>13.0</td>\n",
              "      <td>17.666667</td>\n",
              "    </tr>\n",
              "    <tr>\n",
              "      <th>9</th>\n",
              "      <td>16.0</td>\n",
              "      <td>16.666667</td>\n",
              "    </tr>\n",
              "    <tr>\n",
              "      <th>10</th>\n",
              "      <td>16.0</td>\n",
              "      <td>15.666667</td>\n",
              "    </tr>\n",
              "    <tr>\n",
              "      <th>11</th>\n",
              "      <td>11.0</td>\n",
              "      <td>15.000000</td>\n",
              "    </tr>\n",
              "    <tr>\n",
              "      <th>12</th>\n",
              "      <td>18.0</td>\n",
              "      <td>14.333333</td>\n",
              "    </tr>\n",
              "    <tr>\n",
              "      <th>13</th>\n",
              "      <td>15.0</td>\n",
              "      <td>15.000000</td>\n",
              "    </tr>\n",
              "    <tr>\n",
              "      <th>14</th>\n",
              "      <td>13.0</td>\n",
              "      <td>14.666667</td>\n",
              "    </tr>\n",
              "    <tr>\n",
              "      <th>15</th>\n",
              "      <td>15.0</td>\n",
              "      <td>15.333333</td>\n",
              "    </tr>\n",
              "    <tr>\n",
              "      <th>16</th>\n",
              "      <td>13.0</td>\n",
              "      <td>14.333333</td>\n",
              "    </tr>\n",
              "    <tr>\n",
              "      <th>17</th>\n",
              "      <td>11.0</td>\n",
              "      <td>13.666667</td>\n",
              "    </tr>\n",
              "    <tr>\n",
              "      <th>18</th>\n",
              "      <td>13.0</td>\n",
              "      <td>13.000000</td>\n",
              "    </tr>\n",
              "    <tr>\n",
              "      <th>19</th>\n",
              "      <td>10.0</td>\n",
              "      <td>12.333333</td>\n",
              "    </tr>\n",
              "    <tr>\n",
              "      <th>20</th>\n",
              "      <td>12.0</td>\n",
              "      <td>11.333333</td>\n",
              "    </tr>\n",
              "    <tr>\n",
              "      <th>21</th>\n",
              "      <td>NaN</td>\n",
              "      <td>11.666667</td>\n",
              "    </tr>\n",
              "    <tr>\n",
              "      <th>22</th>\n",
              "      <td>NaN</td>\n",
              "      <td>NaN</td>\n",
              "    </tr>\n",
              "  </tbody>\n",
              "</table>\n",
              "</div>"
            ],
            "text/plain": [
              "    Demand   Forecast\n",
              "0     28.0        NaN\n",
              "1     19.0        NaN\n",
              "2     18.0        NaN\n",
              "3     13.0  21.666667\n",
              "4     19.0  16.666667\n",
              "5     16.0  16.666667\n",
              "6     19.0  16.000000\n",
              "7     18.0  18.000000\n",
              "8     13.0  17.666667\n",
              "9     16.0  16.666667\n",
              "10    16.0  15.666667\n",
              "11    11.0  15.000000\n",
              "12    18.0  14.333333\n",
              "13    15.0  15.000000\n",
              "14    13.0  14.666667\n",
              "15    15.0  15.333333\n",
              "16    13.0  14.333333\n",
              "17    11.0  13.666667\n",
              "18    13.0  13.000000\n",
              "19    10.0  12.333333\n",
              "20    12.0  11.333333\n",
              "21     NaN  11.666667\n",
              "22     NaN        NaN"
            ]
          },
          "execution_count": 59,
          "metadata": {},
          "output_type": "execute_result"
        }
      ]
    },
    {
      "cell_type": "code",
      "metadata": {
        "id": "ingwHzfIl_7q",
        "outputId": "0a1e239a-875d-43bc-a2b1-73b589fa2aea"
      },
      "source": [
        "df[['Demand','Forecast']].plot(figsize=(8,3),ylim=(0,30),style=['-','--'], title='Moving Average Example')"
      ],
      "execution_count": null,
      "outputs": [
        {
          "data": {
            "text/plain": [
              "<AxesSubplot:title={'center':'Moving Average Example'}, xlabel='Periods'>"
            ]
          },
          "execution_count": 80,
          "metadata": {},
          "output_type": "execute_result"
        },
        {
          "data": {
            "image/png": "[encoded data removed]",
            "text/plain": [
              "<Figure size 576x216 with 1 Axes>"
            ]
          },
          "metadata": {
            "needs_background": "light"
          },
          "output_type": "display_data"
        }
      ]
    },
    {
      "cell_type": "markdown",
      "metadata": {
        "id": "Nhl7jC19l_7r"
      },
      "source": [
        "By default, `.plot()` will use the **DataFrame index** as the x axis. Therefore, if you want to display a legend on the x axis, you simply can name the **DataFrame index**"
      ]
    },
    {
      "cell_type": "code",
      "metadata": {
        "id": "cBKB2oiKl_7r"
      },
      "source": [
        "df.index.name = 'Periods' "
      ],
      "execution_count": null,
      "outputs": []
    },
    {
      "cell_type": "code",
      "metadata": {
        "id": "xbgHxwAtl_7r",
        "outputId": "89a1317b-306a-4d1e-f2ab-cd67e53aaac4"
      },
      "source": [
        "df[['Demand','Forecast']].plot(subplots=True,layout=(1,2),figsize=(8,8),ylim=(0,30),style=['-','--'], title='Moving Average Example')"
      ],
      "execution_count": null,
      "outputs": [
        {
          "data": {
            "text/plain": [
              "array([[<AxesSubplot:xlabel='Periods'>, <AxesSubplot:xlabel='Periods'>]],\n",
              "      dtype=object)"
            ]
          },
          "execution_count": 81,
          "metadata": {},
          "output_type": "execute_result"
        },
        {
          "data": {
            "image/png": "[encoded data removed]",
            "text/plain": [
              "<Figure size 576x576 with 2 Axes>"
            ]
          },
          "metadata": {
            "needs_background": "light"
          },
          "output_type": "display_data"
        }
      ]
    },
    {
      "cell_type": "markdown",
      "metadata": {
        "id": "ZYBsicdNl_7r"
      },
      "source": [
        "# Exercício\n",
        "\n",
        "Faça um forecast de uma serie com baseada em random normal. Com n=5 números de períodos na média e 2 extra_periods. Plote o gráfico de demanda e forecast. "
      ]
    },
    {
      "cell_type": "code",
      "metadata": {
        "id": "XmXnLmLfl_7r"
      },
      "source": [
        "array_qualquer = np.full(10,2)"
      ],
      "execution_count": null,
      "outputs": []
    },
    {
      "cell_type": "code",
      "metadata": {
        "id": "kEQ1AVrMl_7r",
        "outputId": "c59b2074-3970-4bbf-e552-7f08fefdefb9"
      },
      "source": [
        "array_qualquer"
      ],
      "execution_count": null,
      "outputs": [
        {
          "data": {
            "text/plain": [
              "array([2, 2, 2, 2, 2, 2, 2, 2, 2, 2])"
            ]
          },
          "execution_count": 67,
          "metadata": {},
          "output_type": "execute_result"
        }
      ]
    },
    {
      "cell_type": "code",
      "metadata": {
        "id": "7hzyCin7l_7r"
      },
      "source": [
        "array_qualquer2 = np.full((10,10),3)"
      ],
      "execution_count": null,
      "outputs": []
    },
    {
      "cell_type": "code",
      "metadata": {
        "id": "18j0tf_kl_7r",
        "outputId": "00be8e05-6ab7-464d-d239-c16dfc798be4"
      },
      "source": [
        "array_qualquer2"
      ],
      "execution_count": null,
      "outputs": [
        {
          "data": {
            "text/plain": [
              "array([[3, 3, 3, 3, 3, 3, 3, 3, 3, 3],\n",
              "       [3, 3, 3, 3, 3, 3, 3, 3, 3, 3],\n",
              "       [3, 3, 3, 3, 3, 3, 3, 3, 3, 3],\n",
              "       [3, 3, 3, 3, 3, 3, 3, 3, 3, 3],\n",
              "       [3, 3, 3, 3, 3, 3, 3, 3, 3, 3],\n",
              "       [3, 3, 3, 3, 3, 3, 3, 3, 3, 3],\n",
              "       [3, 3, 3, 3, 3, 3, 3, 3, 3, 3],\n",
              "       [3, 3, 3, 3, 3, 3, 3, 3, 3, 3],\n",
              "       [3, 3, 3, 3, 3, 3, 3, 3, 3, 3],\n",
              "       [3, 3, 3, 3, 3, 3, 3, 3, 3, 3]])"
            ]
          },
          "execution_count": 72,
          "metadata": {},
          "output_type": "execute_result"
        }
      ]
    },
    {
      "cell_type": "code",
      "metadata": {
        "id": "7BjfCgqwl_7s"
      },
      "source": [
        ""
      ],
      "execution_count": null,
      "outputs": []
    }
  ]
}